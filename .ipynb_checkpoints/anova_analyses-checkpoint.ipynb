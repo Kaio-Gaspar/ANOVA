{
 "cells": [
  {
   "cell_type": "code",
   "execution_count": 685,
   "id": "ab84f7c6-244e-4f92-8189-7509d6b0b8a1",
   "metadata": {},
   "outputs": [
    {
     "name": "stdout",
     "output_type": "stream",
     "text": [
      "Requirement already satisfied: pandas in /home/kaiomgwow/anaconda3/lib/python3.12/site-packages (2.2.3)\n",
      "Requirement already satisfied: matplotlib in /home/kaiomgwow/anaconda3/lib/python3.12/site-packages (3.9.3)\n",
      "Requirement already satisfied: scipy in /home/kaiomgwow/anaconda3/lib/python3.12/site-packages (1.14.1)\n",
      "Requirement already satisfied: numpy in /home/kaiomgwow/anaconda3/lib/python3.12/site-packages (2.1.3)\n",
      "Requirement already satisfied: python-dateutil>=2.8.2 in /home/kaiomgwow/anaconda3/lib/python3.12/site-packages (from pandas) (2.9.0.post0)\n",
      "Requirement already satisfied: pytz>=2020.1 in /home/kaiomgwow/anaconda3/lib/python3.12/site-packages (from pandas) (2024.1)\n",
      "Requirement already satisfied: tzdata>=2022.7 in /home/kaiomgwow/anaconda3/lib/python3.12/site-packages (from pandas) (2023.3)\n",
      "Requirement already satisfied: contourpy>=1.0.1 in /home/kaiomgwow/anaconda3/lib/python3.12/site-packages (from matplotlib) (1.3.1)\n",
      "Requirement already satisfied: cycler>=0.10 in /home/kaiomgwow/anaconda3/lib/python3.12/site-packages (from matplotlib) (0.12.1)\n",
      "Requirement already satisfied: fonttools>=4.22.0 in /home/kaiomgwow/anaconda3/lib/python3.12/site-packages (from matplotlib) (4.55.0)\n",
      "Requirement already satisfied: kiwisolver>=1.3.1 in /home/kaiomgwow/anaconda3/lib/python3.12/site-packages (from matplotlib) (1.4.7)\n",
      "Requirement already satisfied: packaging>=20.0 in /home/kaiomgwow/anaconda3/lib/python3.12/site-packages (from matplotlib) (24.2)\n",
      "Requirement already satisfied: pillow>=8 in /home/kaiomgwow/anaconda3/lib/python3.12/site-packages (from matplotlib) (11.0.0)\n",
      "Requirement already satisfied: pyparsing>=2.3.1 in /home/kaiomgwow/anaconda3/lib/python3.12/site-packages (from matplotlib) (3.2.0)\n",
      "Requirement already satisfied: six>=1.5 in /home/kaiomgwow/anaconda3/lib/python3.12/site-packages (from python-dateutil>=2.8.2->pandas) (1.16.0)\n"
     ]
    }
   ],
   "source": [
    "!pip install --upgrade pandas matplotlib scipy numpy\n"
   ]
  },
  {
   "cell_type": "code",
   "execution_count": 686,
   "id": "eaf29524-9ca8-4043-af16-085d09fca188",
   "metadata": {},
   "outputs": [],
   "source": [
    "#!pip install --upgrade matplotlib\n"
   ]
  },
  {
   "cell_type": "code",
   "execution_count": 687,
   "id": "b5cd8f0a-d914-463d-96db-67dafb751fa3",
   "metadata": {},
   "outputs": [],
   "source": [
    "import pandas as pd\n",
    "import numpy as np\n",
    "import matplotlib.pyplot as plt\n",
    "import seaborn as sns"
   ]
  },
  {
   "cell_type": "code",
   "execution_count": 688,
   "id": "5aecd1e8-df39-4638-9170-0dcce94b8c37",
   "metadata": {},
   "outputs": [],
   "source": [
    "freq = 60\n",
    "damhas_mean_price = 8000\n",
    "yolanda_mean_price = 2200\n",
    "higeanopolis_mean_price = 2000\n",
    "\n",
    "n_bairros = 3\n",
    "\n",
    "damhas = pd.DataFrame([int(x) for x in np.random.normal(size=freq, loc=damhas_mean_price, scale=1200)])\n",
    "yolanda = pd.DataFrame([int(x) for x in np.random.normal(size=freq, loc=yolanda_mean_price, scale=250)])\n",
    "higienopolis = pd.DataFrame([int(x) for x in np.random.normal(size=freq, loc=higeanopolis_mean_price, scale=100)])"
   ]
  },
  {
   "cell_type": "code",
   "execution_count": 689,
   "id": "aaf5133e-ba65-4fb8-9961-fb03fbb844fd",
   "metadata": {},
   "outputs": [
    {
     "data": {
      "text/html": [
       "<div>\n",
       "<style scoped>\n",
       "    .dataframe tbody tr th:only-of-type {\n",
       "        vertical-align: middle;\n",
       "    }\n",
       "\n",
       "    .dataframe tbody tr th {\n",
       "        vertical-align: top;\n",
       "    }\n",
       "\n",
       "    .dataframe thead th {\n",
       "        text-align: right;\n",
       "    }\n",
       "</style>\n",
       "<table border=\"1\" class=\"dataframe\">\n",
       "  <thead>\n",
       "    <tr style=\"text-align: right;\">\n",
       "      <th></th>\n",
       "      <th>0</th>\n",
       "    </tr>\n",
       "  </thead>\n",
       "  <tbody>\n",
       "    <tr>\n",
       "      <th>count</th>\n",
       "      <td>60.000000</td>\n",
       "    </tr>\n",
       "    <tr>\n",
       "      <th>mean</th>\n",
       "      <td>8021.983333</td>\n",
       "    </tr>\n",
       "    <tr>\n",
       "      <th>std</th>\n",
       "      <td>1001.317141</td>\n",
       "    </tr>\n",
       "    <tr>\n",
       "      <th>min</th>\n",
       "      <td>5464.000000</td>\n",
       "    </tr>\n",
       "    <tr>\n",
       "      <th>25%</th>\n",
       "      <td>7398.750000</td>\n",
       "    </tr>\n",
       "    <tr>\n",
       "      <th>50%</th>\n",
       "      <td>8023.000000</td>\n",
       "    </tr>\n",
       "    <tr>\n",
       "      <th>75%</th>\n",
       "      <td>8673.000000</td>\n",
       "    </tr>\n",
       "    <tr>\n",
       "      <th>max</th>\n",
       "      <td>10778.000000</td>\n",
       "    </tr>\n",
       "  </tbody>\n",
       "</table>\n",
       "</div>"
      ],
      "text/plain": [
       "                  0\n",
       "count     60.000000\n",
       "mean    8021.983333\n",
       "std     1001.317141\n",
       "min     5464.000000\n",
       "25%     7398.750000\n",
       "50%     8023.000000\n",
       "75%     8673.000000\n",
       "max    10778.000000"
      ]
     },
     "execution_count": 689,
     "metadata": {},
     "output_type": "execute_result"
    }
   ],
   "source": [
    "damhas.describe()"
   ]
  },
  {
   "cell_type": "code",
   "execution_count": 690,
   "id": "dbb7f559-e53a-48aa-8598-f60cee7ab232",
   "metadata": {},
   "outputs": [
    {
     "data": {
      "text/html": [
       "<div>\n",
       "<style scoped>\n",
       "    .dataframe tbody tr th:only-of-type {\n",
       "        vertical-align: middle;\n",
       "    }\n",
       "\n",
       "    .dataframe tbody tr th {\n",
       "        vertical-align: top;\n",
       "    }\n",
       "\n",
       "    .dataframe thead th {\n",
       "        text-align: right;\n",
       "    }\n",
       "</style>\n",
       "<table border=\"1\" class=\"dataframe\">\n",
       "  <thead>\n",
       "    <tr style=\"text-align: right;\">\n",
       "      <th></th>\n",
       "      <th>0</th>\n",
       "    </tr>\n",
       "  </thead>\n",
       "  <tbody>\n",
       "    <tr>\n",
       "      <th>count</th>\n",
       "      <td>60.000000</td>\n",
       "    </tr>\n",
       "    <tr>\n",
       "      <th>mean</th>\n",
       "      <td>2255.283333</td>\n",
       "    </tr>\n",
       "    <tr>\n",
       "      <th>std</th>\n",
       "      <td>233.233577</td>\n",
       "    </tr>\n",
       "    <tr>\n",
       "      <th>min</th>\n",
       "      <td>1760.000000</td>\n",
       "    </tr>\n",
       "    <tr>\n",
       "      <th>25%</th>\n",
       "      <td>2107.000000</td>\n",
       "    </tr>\n",
       "    <tr>\n",
       "      <th>50%</th>\n",
       "      <td>2314.000000</td>\n",
       "    </tr>\n",
       "    <tr>\n",
       "      <th>75%</th>\n",
       "      <td>2441.250000</td>\n",
       "    </tr>\n",
       "    <tr>\n",
       "      <th>max</th>\n",
       "      <td>2611.000000</td>\n",
       "    </tr>\n",
       "  </tbody>\n",
       "</table>\n",
       "</div>"
      ],
      "text/plain": [
       "                 0\n",
       "count    60.000000\n",
       "mean   2255.283333\n",
       "std     233.233577\n",
       "min    1760.000000\n",
       "25%    2107.000000\n",
       "50%    2314.000000\n",
       "75%    2441.250000\n",
       "max    2611.000000"
      ]
     },
     "execution_count": 690,
     "metadata": {},
     "output_type": "execute_result"
    }
   ],
   "source": [
    "yolanda.describe()"
   ]
  },
  {
   "cell_type": "code",
   "execution_count": 691,
   "id": "953b4343-5824-41b9-844d-182a57bbeb9e",
   "metadata": {},
   "outputs": [
    {
     "data": {
      "text/html": [
       "<div>\n",
       "<style scoped>\n",
       "    .dataframe tbody tr th:only-of-type {\n",
       "        vertical-align: middle;\n",
       "    }\n",
       "\n",
       "    .dataframe tbody tr th {\n",
       "        vertical-align: top;\n",
       "    }\n",
       "\n",
       "    .dataframe thead th {\n",
       "        text-align: right;\n",
       "    }\n",
       "</style>\n",
       "<table border=\"1\" class=\"dataframe\">\n",
       "  <thead>\n",
       "    <tr style=\"text-align: right;\">\n",
       "      <th></th>\n",
       "      <th>0</th>\n",
       "    </tr>\n",
       "  </thead>\n",
       "  <tbody>\n",
       "    <tr>\n",
       "      <th>count</th>\n",
       "      <td>60.000000</td>\n",
       "    </tr>\n",
       "    <tr>\n",
       "      <th>mean</th>\n",
       "      <td>1982.616667</td>\n",
       "    </tr>\n",
       "    <tr>\n",
       "      <th>std</th>\n",
       "      <td>98.127398</td>\n",
       "    </tr>\n",
       "    <tr>\n",
       "      <th>min</th>\n",
       "      <td>1726.000000</td>\n",
       "    </tr>\n",
       "    <tr>\n",
       "      <th>25%</th>\n",
       "      <td>1924.000000</td>\n",
       "    </tr>\n",
       "    <tr>\n",
       "      <th>50%</th>\n",
       "      <td>1987.500000</td>\n",
       "    </tr>\n",
       "    <tr>\n",
       "      <th>75%</th>\n",
       "      <td>2049.250000</td>\n",
       "    </tr>\n",
       "    <tr>\n",
       "      <th>max</th>\n",
       "      <td>2166.000000</td>\n",
       "    </tr>\n",
       "  </tbody>\n",
       "</table>\n",
       "</div>"
      ],
      "text/plain": [
       "                 0\n",
       "count    60.000000\n",
       "mean   1982.616667\n",
       "std      98.127398\n",
       "min    1726.000000\n",
       "25%    1924.000000\n",
       "50%    1987.500000\n",
       "75%    2049.250000\n",
       "max    2166.000000"
      ]
     },
     "execution_count": 691,
     "metadata": {},
     "output_type": "execute_result"
    }
   ],
   "source": [
    "higienopolis.describe()"
   ]
  },
  {
   "cell_type": "code",
   "execution_count": 692,
   "id": "1e3952a1-6822-4eb0-85bb-59ea9c619f02",
   "metadata": {},
   "outputs": [],
   "source": [
    "# quanto maior a freq mais o gráfico se aproxima de uma distribuição normal"
   ]
  },
  {
   "cell_type": "code",
   "execution_count": 693,
   "id": "d347c177-b004-4ce6-beec-7a9dd2f0d441",
   "metadata": {},
   "outputs": [
    {
     "data": {
      "image/png": "[encoded data removed]",
      "text/plain": [
       "<Figure size 640x480 with 1 Axes>"
      ]
     },
     "metadata": {},
     "output_type": "display_data"
    }
   ],
   "source": [
    "plt.hist(damhas, bins=15);"
   ]
  },
  {
   "cell_type": "code",
   "execution_count": 694,
   "id": "0449e6e1-1ca5-47e1-8b5c-c73c3285875b",
   "metadata": {},
   "outputs": [],
   "source": [
    "bairros = np.repeat(['Damhas', 'Yolanda', 'Higienopolis'], freq)"
   ]
  },
  {
   "cell_type": "code",
   "execution_count": 695,
   "id": "db371919-c665-415c-84e0-d26b455b79fb",
   "metadata": {},
   "outputs": [],
   "source": [
    "aluguel = np.concatenate([damhas, yolanda, higienopolis])"
   ]
  },
  {
   "cell_type": "code",
   "execution_count": 696,
   "id": "d68a29c6-7aaa-4f19-b011-2a48458a06a2",
   "metadata": {},
   "outputs": [
    {
     "data": {
      "text/plain": [
       "(180,)"
      ]
     },
     "execution_count": 696,
     "metadata": {},
     "output_type": "execute_result"
    }
   ],
   "source": [
    "bairros.shape"
   ]
  },
  {
   "cell_type": "code",
   "execution_count": 697,
   "id": "277624df-9aec-4f03-abda-572f58eeeb45",
   "metadata": {},
   "outputs": [
    {
     "data": {
      "text/plain": [
       "(180, 1)"
      ]
     },
     "execution_count": 697,
     "metadata": {},
     "output_type": "execute_result"
    }
   ],
   "source": [
    "aluguel.shape"
   ]
  },
  {
   "cell_type": "code",
   "execution_count": 698,
   "id": "5b282c5d-3233-4b71-bcb3-e8c0bc8156f5",
   "metadata": {},
   "outputs": [],
   "source": [
    "aluguel = aluguel.flatten()\n",
    "bairros = bairros.flatten()"
   ]
  },
  {
   "cell_type": "code",
   "execution_count": 699,
   "id": "15f57442-a509-438c-a9e1-5a91e4015358",
   "metadata": {},
   "outputs": [],
   "source": [
    "df_aluguel = pd.DataFrame({\n",
    "    'aluguel': aluguel,\n",
    "    'bairro': bairros\n",
    "})\n"
   ]
  },
  {
   "cell_type": "code",
   "execution_count": 700,
   "id": "4379cee4-c946-4c8d-9a1b-5104d6ee4b8b",
   "metadata": {},
   "outputs": [
    {
     "data": {
      "text/html": [
       "<div>\n",
       "<style scoped>\n",
       "    .dataframe tbody tr th:only-of-type {\n",
       "        vertical-align: middle;\n",
       "    }\n",
       "\n",
       "    .dataframe tbody tr th {\n",
       "        vertical-align: top;\n",
       "    }\n",
       "\n",
       "    .dataframe thead th {\n",
       "        text-align: right;\n",
       "    }\n",
       "</style>\n",
       "<table border=\"1\" class=\"dataframe\">\n",
       "  <thead>\n",
       "    <tr style=\"text-align: right;\">\n",
       "      <th></th>\n",
       "      <th>aluguel</th>\n",
       "      <th>bairro</th>\n",
       "    </tr>\n",
       "  </thead>\n",
       "  <tbody>\n",
       "    <tr>\n",
       "      <th>0</th>\n",
       "      <td>6857</td>\n",
       "      <td>Damhas</td>\n",
       "    </tr>\n",
       "    <tr>\n",
       "      <th>1</th>\n",
       "      <td>6871</td>\n",
       "      <td>Damhas</td>\n",
       "    </tr>\n",
       "    <tr>\n",
       "      <th>2</th>\n",
       "      <td>10395</td>\n",
       "      <td>Damhas</td>\n",
       "    </tr>\n",
       "    <tr>\n",
       "      <th>3</th>\n",
       "      <td>8881</td>\n",
       "      <td>Damhas</td>\n",
       "    </tr>\n",
       "    <tr>\n",
       "      <th>4</th>\n",
       "      <td>7337</td>\n",
       "      <td>Damhas</td>\n",
       "    </tr>\n",
       "  </tbody>\n",
       "</table>\n",
       "</div>"
      ],
      "text/plain": [
       "   aluguel  bairro\n",
       "0     6857  Damhas\n",
       "1     6871  Damhas\n",
       "2    10395  Damhas\n",
       "3     8881  Damhas\n",
       "4     7337  Damhas"
      ]
     },
     "execution_count": 700,
     "metadata": {},
     "output_type": "execute_result"
    }
   ],
   "source": [
    "df_aluguel.head()"
   ]
  },
  {
   "cell_type": "code",
   "execution_count": 701,
   "id": "5c726d70-1db3-426d-a0d3-1bf0035505b5",
   "metadata": {},
   "outputs": [
    {
     "data": {
      "text/plain": [
       "bairro\n",
       "Damhas          60\n",
       "Yolanda         60\n",
       "Higienopolis    60\n",
       "Name: count, dtype: int64"
      ]
     },
     "execution_count": 701,
     "metadata": {},
     "output_type": "execute_result"
    }
   ],
   "source": [
    "df_aluguel['bairro'].value_counts()"
   ]
  },
  {
   "cell_type": "code",
   "execution_count": 702,
   "id": "1156435b-6a1a-409c-b00d-d05f7ddd7da5",
   "metadata": {},
   "outputs": [
    {
     "data": {
      "image/png": "[encoded data removed]",
      "text/plain": [
       "<Figure size 1500x500 with 3 Axes>"
      ]
     },
     "metadata": {},
     "output_type": "display_data"
    }
   ],
   "source": [
    "# Obter os nomes únicos dos bairros\n",
    "bairros_unicos = df_aluguel['bairro'].value_counts().index\n",
    "\n",
    "# Criar uma paleta de cores para os bairros\n",
    "cores = sns.color_palette(\"Set1\", len(bairros_unicos))  # Ou outra paleta de sua escolha\n",
    "\n",
    "# Criar subplots dinamicamente (1 por bairro)\n",
    "fig, ax = plt.subplots(nrows=1, ncols=len(bairros_unicos), figsize=(15, 5))\n",
    "\n",
    "# Iterar sobre os bairros e plotar os aluguéis correspondentes\n",
    "for i, (bairro_, cor) in enumerate(zip(bairros_unicos, cores)):\n",
    "    # Filtrar os aluguéis para o bairro atual\n",
    "    alugueis_bairro = df_aluguel['aluguel'][df_aluguel['bairro'] == bairro_]\n",
    "    \n",
    "    # Plotar no subplot correspondente com a cor específica\n",
    "    sns.histplot(alugueis_bairro, kde=True, ax=ax[i], bins=20, color=cor)\n",
    "    ax[i].set_title(bairro_)\n",
    "    ax[i].set_xlabel('Aluguel')\n",
    "    ax[i].set_ylabel('Frequência')\n",
    "\n",
    "\n",
    "# Ajustar o layout para não sobrepor os gráficos\n",
    "plt.tight_layout()\n",
    "plt.show()"
   ]
  },
  {
   "cell_type": "markdown",
   "id": "bd9c6d5c-c1f7-43f3-a8d3-e06b226b65ad",
   "metadata": {},
   "source": [
    "### Análise gráfica da ANOVA"
   ]
  },
  {
   "cell_type": "code",
   "execution_count": 722,
   "id": "c072ab97-22f5-4e65-8ed9-5840e8ba8ac9",
   "metadata": {},
   "outputs": [
    {
     "data": {
      "text/plain": [
       "60.0"
      ]
     },
     "execution_count": 722,
     "metadata": {},
     "output_type": "execute_result"
    }
   ],
   "source": [
    "(freq*n_bairros)/3"
   ]
  },
  {
   "cell_type": "code",
   "execution_count": 726,
   "id": "97f743e0-589a-46cd-8655-1eff84833f3f",
   "metadata": {},
   "outputs": [
    {
     "data": {
      "image/png": "[encoded data removed]",
      "text/plain": [
       "<Figure size 800x500 with 1 Axes>"
      ]
     },
     "metadata": {},
     "output_type": "display_data"
    }
   ],
   "source": [
    "fig, ax = plt.subplots(figsize=(8,5))\n",
    "\n",
    "tamanho_eixo_x = (freq*n_bairros)/3\n",
    "ax.set_xlim([0,freq*n_bairros])\n",
    "ax.set_ylim([df_aluguel['aluguel'].min(), df_aluguel['aluguel'].max()+100])\n",
    "\n",
    "primeira_parte = tamanho_eixo_x * 1\n",
    "segunda_parte = tamanho_eixo_x * 2\n",
    "terceira_parte = tamanho_eixo_x * 3\n",
    "\n",
    "\n",
    "# Plotando os aluguéis para os bairros de forma separada\n",
    "\n",
    "# 1. Damhas (vermelho)\n",
    "ax.scatter(x=range(0, round(tamanho_eixo_x), 1),\n",
    "           y=df_aluguel['aluguel'][0:round(tamanho_eixo_x)],\n",
    "           c='r', label='Damhas')\n",
    "\n",
    "# 2. Yolanda (azul)\n",
    "ax.scatter(x=range(round(tamanho_eixo_x), round(tamanho_eixo_x * 2), 1),\n",
    "           y=df_aluguel['aluguel'][round(tamanho_eixo_x):round(tamanho_eixo_x * 2)],\n",
    "           c='b', label='Yolanda')\n",
    "\n",
    "# 3. Higienopolis (verde)\n",
    "ax.scatter(x=range(round(tamanho_eixo_x * 2), round(tamanho_eixo_x * 3), 1),\n",
    "           y=df_aluguel['aluguel'][round(tamanho_eixo_x * 2):round(tamanho_eixo_x * 3)],\n",
    "           c='g', label='Higienopolis')\n",
    "\n",
    "# Adicionar legenda\n",
    "ax.legend()\n",
    "\n",
    "# Exibir o gráfico\n",
    "plt.show()"
   ]
  }
 ],
 "metadata": {
  "kernelspec": {
   "display_name": "Python 3 (ipykernel)",
   "language": "python",
   "name": "python3"
  },
  "language_info": {
   "codemirror_mode": {
    "name": "ipython",
    "version": 3
   },
   "file_extension": ".py",
   "mimetype": "text/x-python",
   "name": "python",
   "nbconvert_exporter": "python",
   "pygments_lexer": "ipython3",
   "version": "3.12.7"
  }
 },
 "nbformat": 4,
 "nbformat_minor": 5
}
